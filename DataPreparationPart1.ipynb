{
 "cells": [
  {
   "cell_type": "code",
   "execution_count": 1,
   "metadata": {
    "collapsed": true
   },
   "outputs": [],
   "source": [
    "import pandas as pd\n",
    "import numpy as np\n"
   ]
  },
  {
   "cell_type": "code",
   "execution_count": 3,
   "metadata": {},
   "outputs": [],
   "source": [
    "auto_prices = pd.read_csv('Automobile price data _Raw_.csv')"
   ]
  },
  {
   "cell_type": "code",
   "execution_count": 4,
   "metadata": {},
   "outputs": [
    {
     "name": "stdout",
     "output_type": "stream",
     "text": [
      "Index(['symboling', 'normalized-losses', 'make', 'fuel-type', 'aspiration',\n",
      "       'num-of-doors', 'body-style', 'drive-wheels', 'engine-location',\n",
      "       'wheel-base', 'length', 'width', 'height', 'curb-weight', 'engine-type',\n",
      "       'num-of-cylinders', 'engine-size', 'fuel-system', 'bore', 'stroke',\n",
      "       'compression-ratio', 'horsepower', 'peak-rpm', 'city-mpg',\n",
      "       'highway-mpg', 'price'],\n",
      "      dtype='object')\n"
     ]
    }
   ],
   "source": [
    "print(auto_prices.columns)"
   ]
  },
  {
   "cell_type": "code",
   "execution_count": 5,
   "metadata": {},
   "outputs": [
    {
     "name": "stdout",
     "output_type": "stream",
     "text": [
      "Index(['symboling', 'normalized_losses', 'make', 'fuel_type', 'aspiration',\n",
      "       'num_of_doors', 'body_style', 'drive_wheels', 'engine_location',\n",
      "       'wheel_base', 'length', 'width', 'height', 'curb_weight', 'engine_type',\n",
      "       'num_of_cylinders', 'engine_size', 'fuel_system', 'bore', 'stroke',\n",
      "       'compression_ratio', 'horsepower', 'peak_rpm', 'city_mpg',\n",
      "       'highway_mpg', 'price'],\n",
      "      dtype='object')\n"
     ]
    }
   ],
   "source": [
    "auto_prices.columns = [str.replace('-','_') for str in auto_prices.columns]\n",
    "print(auto_prices.columns)"
   ]
  },
  {
   "cell_type": "markdown",
   "metadata": {},
   "source": [
    "# Look which has the Null Value \n",
    "in this case we can find '?' as null value"
   ]
  },
  {
   "cell_type": "code",
   "execution_count": 18,
   "metadata": {},
   "outputs": [],
   "source": [
    "cols = auto_prices.columns[(auto_prices.astype(np.object)=='?').any()]"
   ]
  },
  {
   "cell_type": "code",
   "execution_count": 21,
   "metadata": {},
   "outputs": [
    {
     "name": "stdout",
     "output_type": "stream",
     "text": [
      "normalized_losses 41\n",
      "num_of_doors 2\n",
      "bore 4\n",
      "stroke 4\n",
      "horsepower 2\n",
      "peak_rpm 2\n",
      "price 4\n"
     ]
    }
   ],
   "source": [
    "for column in cols:\n",
    "    count =0\n",
    "    count = [count+1 for x in auto_prices[column] if x=='?'  ]\n",
    "    print(column,str(sum(count)))"
   ]
  },
  {
   "cell_type": "markdown",
   "metadata": {},
   "source": [
    "# Dropping normalize losses"
   ]
  },
  {
   "cell_type": "code",
   "execution_count": 23,
   "metadata": {},
   "outputs": [],
   "source": [
    "auto_prices.drop('normalized_losses', axis = 1, inplace = True)\n"
   ]
  },
  {
   "cell_type": "code",
   "execution_count": 25,
   "metadata": {},
   "outputs": [],
   "source": [
    "cols = auto_prices.columns[(auto_prices.astype(np.object)=='?').any()]\n",
    "for column in cols:\n",
    "    auto_prices.loc[auto_prices[column]=='?',column] = np.nan\n",
    "auto_prices.dropna(axis = 0, inplace = True)"
   ]
  },
  {
   "cell_type": "code",
   "execution_count": 31,
   "metadata": {},
   "outputs": [],
   "source": [
    "for column in cols:\n",
    "    auto_prices[column] = pd.to_numeric(auto_prices[column]) "
   ]
  },
  {
   "cell_type": "code",
   "execution_count": 32,
   "metadata": {},
   "outputs": [
    {
     "name": "stdout",
     "output_type": "stream",
     "text": [
      "     symboling         make fuel_type aspiration num_of_doors   body_style  \\\n",
      "0            3  alfa-romero       gas        std          two  convertible   \n",
      "1            3  alfa-romero       gas        std          two  convertible   \n",
      "2            1  alfa-romero       gas        std          two    hatchback   \n",
      "3            2         audi       gas        std         four        sedan   \n",
      "4            2         audi       gas        std         four        sedan   \n",
      "5            2         audi       gas        std          two        sedan   \n",
      "6            1         audi       gas        std         four        sedan   \n",
      "7            1         audi       gas        std         four        wagon   \n",
      "8            1         audi       gas      turbo         four        sedan   \n",
      "10           2          bmw       gas        std          two        sedan   \n",
      "11           0          bmw       gas        std         four        sedan   \n",
      "12           0          bmw       gas        std          two        sedan   \n",
      "13           0          bmw       gas        std         four        sedan   \n",
      "14           1          bmw       gas        std         four        sedan   \n",
      "15           0          bmw       gas        std         four        sedan   \n",
      "16           0          bmw       gas        std          two        sedan   \n",
      "17           0          bmw       gas        std         four        sedan   \n",
      "18           2    chevrolet       gas        std          two    hatchback   \n",
      "19           1    chevrolet       gas        std          two    hatchback   \n",
      "20           0    chevrolet       gas        std         four        sedan   \n",
      "21           1        dodge       gas        std          two    hatchback   \n",
      "22           1        dodge       gas        std          two    hatchback   \n",
      "23           1        dodge       gas      turbo          two    hatchback   \n",
      "24           1        dodge       gas        std         four    hatchback   \n",
      "25           1        dodge       gas        std         four        sedan   \n",
      "26           1        dodge       gas        std         four        sedan   \n",
      "28          -1        dodge       gas        std         four        wagon   \n",
      "29           3        dodge       gas      turbo          two    hatchback   \n",
      "30           2        honda       gas        std          two    hatchback   \n",
      "31           2        honda       gas        std          two    hatchback   \n",
      "..         ...          ...       ...        ...          ...          ...   \n",
      "175         -1       toyota       gas        std         four    hatchback   \n",
      "176         -1       toyota       gas        std         four        sedan   \n",
      "177         -1       toyota       gas        std         four    hatchback   \n",
      "178          3       toyota       gas        std          two    hatchback   \n",
      "179          3       toyota       gas        std          two    hatchback   \n",
      "180         -1       toyota       gas        std         four        sedan   \n",
      "181         -1       toyota       gas        std         four        wagon   \n",
      "182          2   volkswagen    diesel        std          two        sedan   \n",
      "183          2   volkswagen       gas        std          two        sedan   \n",
      "184          2   volkswagen    diesel        std         four        sedan   \n",
      "185          2   volkswagen       gas        std         four        sedan   \n",
      "186          2   volkswagen       gas        std         four        sedan   \n",
      "187          2   volkswagen    diesel      turbo         four        sedan   \n",
      "188          2   volkswagen       gas        std         four        sedan   \n",
      "189          3   volkswagen       gas        std          two  convertible   \n",
      "190          3   volkswagen       gas        std          two    hatchback   \n",
      "191          0   volkswagen       gas        std         four        sedan   \n",
      "192          0   volkswagen    diesel      turbo         four        sedan   \n",
      "193          0   volkswagen       gas        std         four        wagon   \n",
      "194         -2        volvo       gas        std         four        sedan   \n",
      "195         -1        volvo       gas        std         four        wagon   \n",
      "196         -2        volvo       gas        std         four        sedan   \n",
      "197         -1        volvo       gas        std         four        wagon   \n",
      "198         -2        volvo       gas      turbo         four        sedan   \n",
      "199         -1        volvo       gas      turbo         four        wagon   \n",
      "200         -1        volvo       gas        std         four        sedan   \n",
      "201         -1        volvo       gas      turbo         four        sedan   \n",
      "202         -1        volvo       gas        std         four        sedan   \n",
      "203         -1        volvo    diesel      turbo         four        sedan   \n",
      "204         -1        volvo       gas      turbo         four        sedan   \n",
      "\n",
      "    drive_wheels engine_location  wheel_base  length  ...    engine_size  \\\n",
      "0            rwd           front        88.6   168.8  ...            130   \n",
      "1            rwd           front        88.6   168.8  ...            130   \n",
      "2            rwd           front        94.5   171.2  ...            152   \n",
      "3            fwd           front        99.8   176.6  ...            109   \n",
      "4            4wd           front        99.4   176.6  ...            136   \n",
      "5            fwd           front        99.8   177.3  ...            136   \n",
      "6            fwd           front       105.8   192.7  ...            136   \n",
      "7            fwd           front       105.8   192.7  ...            136   \n",
      "8            fwd           front       105.8   192.7  ...            131   \n",
      "10           rwd           front       101.2   176.8  ...            108   \n",
      "11           rwd           front       101.2   176.8  ...            108   \n",
      "12           rwd           front       101.2   176.8  ...            164   \n",
      "13           rwd           front       101.2   176.8  ...            164   \n",
      "14           rwd           front       103.5   189.0  ...            164   \n",
      "15           rwd           front       103.5   189.0  ...            209   \n",
      "16           rwd           front       103.5   193.8  ...            209   \n",
      "17           rwd           front       110.0   197.0  ...            209   \n",
      "18           fwd           front        88.4   141.1  ...             61   \n",
      "19           fwd           front        94.5   155.9  ...             90   \n",
      "20           fwd           front        94.5   158.8  ...             90   \n",
      "21           fwd           front        93.7   157.3  ...             90   \n",
      "22           fwd           front        93.7   157.3  ...             90   \n",
      "23           fwd           front        93.7   157.3  ...             98   \n",
      "24           fwd           front        93.7   157.3  ...             90   \n",
      "25           fwd           front        93.7   157.3  ...             90   \n",
      "26           fwd           front        93.7   157.3  ...             90   \n",
      "28           fwd           front       103.3   174.6  ...            122   \n",
      "29           fwd           front        95.9   173.2  ...            156   \n",
      "30           fwd           front        86.6   144.6  ...             92   \n",
      "31           fwd           front        86.6   144.6  ...             92   \n",
      "..           ...             ...         ...     ...  ...            ...   \n",
      "175          fwd           front       102.4   175.6  ...            122   \n",
      "176          fwd           front       102.4   175.6  ...            122   \n",
      "177          fwd           front       102.4   175.6  ...            122   \n",
      "178          rwd           front       102.9   183.5  ...            171   \n",
      "179          rwd           front       102.9   183.5  ...            171   \n",
      "180          rwd           front       104.5   187.8  ...            171   \n",
      "181          rwd           front       104.5   187.8  ...            161   \n",
      "182          fwd           front        97.3   171.7  ...             97   \n",
      "183          fwd           front        97.3   171.7  ...            109   \n",
      "184          fwd           front        97.3   171.7  ...             97   \n",
      "185          fwd           front        97.3   171.7  ...            109   \n",
      "186          fwd           front        97.3   171.7  ...            109   \n",
      "187          fwd           front        97.3   171.7  ...             97   \n",
      "188          fwd           front        97.3   171.7  ...            109   \n",
      "189          fwd           front        94.5   159.3  ...            109   \n",
      "190          fwd           front        94.5   165.7  ...            109   \n",
      "191          fwd           front       100.4   180.2  ...            136   \n",
      "192          fwd           front       100.4   180.2  ...             97   \n",
      "193          fwd           front       100.4   183.1  ...            109   \n",
      "194          rwd           front       104.3   188.8  ...            141   \n",
      "195          rwd           front       104.3   188.8  ...            141   \n",
      "196          rwd           front       104.3   188.8  ...            141   \n",
      "197          rwd           front       104.3   188.8  ...            141   \n",
      "198          rwd           front       104.3   188.8  ...            130   \n",
      "199          rwd           front       104.3   188.8  ...            130   \n",
      "200          rwd           front       109.1   188.8  ...            141   \n",
      "201          rwd           front       109.1   188.8  ...            141   \n",
      "202          rwd           front       109.1   188.8  ...            173   \n",
      "203          rwd           front       109.1   188.8  ...            145   \n",
      "204          rwd           front       109.1   188.8  ...            141   \n",
      "\n",
      "     fuel_system  bore stroke compression_ratio  horsepower peak_rpm city_mpg  \\\n",
      "0           mpfi  3.47   2.68              9.00         111     5000       21   \n",
      "1           mpfi  3.47   2.68              9.00         111     5000       21   \n",
      "2           mpfi  2.68   3.47              9.00         154     5000       19   \n",
      "3           mpfi  3.19   3.40             10.00         102     5500       24   \n",
      "4           mpfi  3.19   3.40              8.00         115     5500       18   \n",
      "5           mpfi  3.19   3.40              8.50         110     5500       19   \n",
      "6           mpfi  3.19   3.40              8.50         110     5500       19   \n",
      "7           mpfi  3.19   3.40              8.50         110     5500       19   \n",
      "8           mpfi  3.13   3.40              8.30         140     5500       17   \n",
      "10          mpfi  3.50   2.80              8.80         101     5800       23   \n",
      "11          mpfi  3.50   2.80              8.80         101     5800       23   \n",
      "12          mpfi  3.31   3.19              9.00         121     4250       21   \n",
      "13          mpfi  3.31   3.19              9.00         121     4250       21   \n",
      "14          mpfi  3.31   3.19              9.00         121     4250       20   \n",
      "15          mpfi  3.62   3.39              8.00         182     5400       16   \n",
      "16          mpfi  3.62   3.39              8.00         182     5400       16   \n",
      "17          mpfi  3.62   3.39              8.00         182     5400       15   \n",
      "18          2bbl  2.91   3.03              9.50          48     5100       47   \n",
      "19          2bbl  3.03   3.11              9.60          70     5400       38   \n",
      "20          2bbl  3.03   3.11              9.60          70     5400       38   \n",
      "21          2bbl  2.97   3.23              9.41          68     5500       37   \n",
      "22          2bbl  2.97   3.23              9.40          68     5500       31   \n",
      "23          mpfi  3.03   3.39              7.60         102     5500       24   \n",
      "24          2bbl  2.97   3.23              9.40          68     5500       31   \n",
      "25          2bbl  2.97   3.23              9.40          68     5500       31   \n",
      "26          2bbl  2.97   3.23              9.40          68     5500       31   \n",
      "28          2bbl  3.34   3.46              8.50          88     5000       24   \n",
      "29           mfi  3.60   3.90              7.00         145     5000       19   \n",
      "30          1bbl  2.91   3.41              9.60          58     4800       49   \n",
      "31          1bbl  2.91   3.41              9.20          76     6000       31   \n",
      "..           ...   ...    ...               ...         ...      ...      ...   \n",
      "175         mpfi  3.31   3.54              8.70          92     4200       27   \n",
      "176         mpfi  3.31   3.54              8.70          92     4200       27   \n",
      "177         mpfi  3.31   3.54              8.70          92     4200       27   \n",
      "178         mpfi  3.27   3.35              9.30         161     5200       20   \n",
      "179         mpfi  3.27   3.35              9.30         161     5200       19   \n",
      "180         mpfi  3.27   3.35              9.20         156     5200       20   \n",
      "181         mpfi  3.27   3.35              9.20         156     5200       19   \n",
      "182          idi  3.01   3.40             23.00          52     4800       37   \n",
      "183         mpfi  3.19   3.40              9.00          85     5250       27   \n",
      "184          idi  3.01   3.40             23.00          52     4800       37   \n",
      "185         mpfi  3.19   3.40              9.00          85     5250       27   \n",
      "186         mpfi  3.19   3.40              9.00          85     5250       27   \n",
      "187          idi  3.01   3.40             23.00          68     4500       37   \n",
      "188         mpfi  3.19   3.40             10.00         100     5500       26   \n",
      "189         mpfi  3.19   3.40              8.50          90     5500       24   \n",
      "190         mpfi  3.19   3.40              8.50          90     5500       24   \n",
      "191         mpfi  3.19   3.40              8.50         110     5500       19   \n",
      "192          idi  3.01   3.40             23.00          68     4500       33   \n",
      "193         mpfi  3.19   3.40              9.00          88     5500       25   \n",
      "194         mpfi  3.78   3.15              9.50         114     5400       23   \n",
      "195         mpfi  3.78   3.15              9.50         114     5400       23   \n",
      "196         mpfi  3.78   3.15              9.50         114     5400       24   \n",
      "197         mpfi  3.78   3.15              9.50         114     5400       24   \n",
      "198         mpfi  3.62   3.15              7.50         162     5100       17   \n",
      "199         mpfi  3.62   3.15              7.50         162     5100       17   \n",
      "200         mpfi  3.78   3.15              9.50         114     5400       23   \n",
      "201         mpfi  3.78   3.15              8.70         160     5300       19   \n",
      "202         mpfi  3.58   2.87              8.80         134     5500       18   \n",
      "203          idi  3.01   3.40             23.00         106     4800       26   \n",
      "204         mpfi  3.78   3.15              9.50         114     5400       19   \n",
      "\n",
      "    highway_mpg  price  \n",
      "0            27  13495  \n",
      "1            27  16500  \n",
      "2            26  16500  \n",
      "3            30  13950  \n",
      "4            22  17450  \n",
      "5            25  15250  \n",
      "6            25  17710  \n",
      "7            25  18920  \n",
      "8            20  23875  \n",
      "10           29  16430  \n",
      "11           29  16925  \n",
      "12           28  20970  \n",
      "13           28  21105  \n",
      "14           25  24565  \n",
      "15           22  30760  \n",
      "16           22  41315  \n",
      "17           20  36880  \n",
      "18           53   5151  \n",
      "19           43   6295  \n",
      "20           43   6575  \n",
      "21           41   5572  \n",
      "22           38   6377  \n",
      "23           30   7957  \n",
      "24           38   6229  \n",
      "25           38   6692  \n",
      "26           38   7609  \n",
      "28           30   8921  \n",
      "29           24  12964  \n",
      "30           54   6479  \n",
      "31           38   6855  \n",
      "..          ...    ...  \n",
      "175          32   9988  \n",
      "176          32  10898  \n",
      "177          32  11248  \n",
      "178          24  16558  \n",
      "179          24  15998  \n",
      "180          24  15690  \n",
      "181          24  15750  \n",
      "182          46   7775  \n",
      "183          34   7975  \n",
      "184          46   7995  \n",
      "185          34   8195  \n",
      "186          34   8495  \n",
      "187          42   9495  \n",
      "188          32   9995  \n",
      "189          29  11595  \n",
      "190          29   9980  \n",
      "191          24  13295  \n",
      "192          38  13845  \n",
      "193          31  12290  \n",
      "194          28  12940  \n",
      "195          28  13415  \n",
      "196          28  15985  \n",
      "197          28  16515  \n",
      "198          22  18420  \n",
      "199          22  18950  \n",
      "200          28  16845  \n",
      "201          25  19045  \n",
      "202          23  21485  \n",
      "203          27  22470  \n",
      "204          25  22625  \n",
      "\n",
      "[193 rows x 25 columns]\n"
     ]
    }
   ],
   "source": [
    "print(auto_prices)"
   ]
  },
  {
   "cell_type": "code",
   "execution_count": null,
   "metadata": {
    "collapsed": true
   },
   "outputs": [],
   "source": []
  }
 ],
 "metadata": {
  "kernelspec": {
   "display_name": "Python 3",
   "language": "python",
   "name": "python3"
  },
  "language_info": {
   "codemirror_mode": {
    "name": "ipython",
    "version": 3
   },
   "file_extension": ".py",
   "mimetype": "text/x-python",
   "name": "python",
   "nbconvert_exporter": "python",
   "pygments_lexer": "ipython3",
   "version": "3.6.3"
  }
 },
 "nbformat": 4,
 "nbformat_minor": 2
}
